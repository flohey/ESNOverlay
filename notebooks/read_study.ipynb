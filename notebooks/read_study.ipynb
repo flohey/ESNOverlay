{
 "cells": [
  {
   "cell_type": "code",
   "execution_count": 2,
   "metadata": {},
   "outputs": [
    {
     "output_type": "stream",
     "name": "stdout",
     "text": [
      "Reading ESNParams.\n"
     ]
    }
   ],
   "source": [
    "import numpy as np\n",
    "import torch\n",
    "import h5py\n",
    "from esn_fun import ReadParallelSeedStudy, ReadESNParams, CreateStudyConfigArray\n",
    "from esn_params import ESNParams\n",
    "\n",
    "filepath  = '/home/flhe/Documents/hdf5/Lorenz63_esn.hdf5'\n",
    "\n",
    "\n",
    "esn_params = ReadESNParams(filepath)\n",
    "\n",
    "SeedID = 0\n",
    "nstudy = 7\n",
    "study_parameters = ['n_reservoir', 'reservoirDensity']\n",
    "mse_train, mse_test, y_pred, study_dicts = ReadParallelSeedStudy(filepath, SeedID, study_parameters, nstudy)\n",
    "\n",
    "config = CreateStudyConfigArray(study_parameters,study_dicts) "
   ]
  }
 ],
 "metadata": {
  "kernelspec": {
   "display_name": "Python 3",
   "language": "python",
   "name": "python3"
  },
  "language_info": {
   "codemirror_mode": {
    "name": "ipython",
    "version": 3
   },
   "file_extension": ".py",
   "mimetype": "text/x-python",
   "name": "python",
   "nbconvert_exporter": "python",
   "pygments_lexer": "ipython3",
   "version": "3.8.5-final"
  }
 },
 "nbformat": 4,
 "nbformat_minor": 5
}